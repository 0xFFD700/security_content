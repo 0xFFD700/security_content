{
 "cells": [
  {
   "cell_type": "markdown",
   "metadata": {},
   "source": [
    "## Train Model"
   ]
  },
  {
   "cell_type": "code",
   "execution_count": 1,
   "metadata": {
    "execution": {
     "iopub.execute_input": "2020-10-22T01:24:46.501377Z",
     "iopub.status.busy": "2020-10-22T01:24:46.501109Z",
     "iopub.status.idle": "2020-10-22T01:24:48.231489Z",
     "shell.execute_reply": "2020-10-22T01:24:48.230823Z",
     "shell.execute_reply.started": "2020-10-22T01:24:46.501346Z"
    }
   },
   "outputs": [],
   "source": [
    "import numpy as np\n",
    "import pandas as pd\n",
    "\n",
    "from tensorflow.keras.layers import Dense, Embedding, LSTM, SpatialDropout1D\n",
    "from tensorflow.keras.models import Sequential\n",
    "from tensorflow.keras.callbacks import EarlyStopping\n",
    "from tensorflow.keras import metrics\n",
    "import tensorflow as tf"
   ]
  },
  {
   "cell_type": "code",
   "execution_count": 2,
   "metadata": {
    "execution": {
     "iopub.execute_input": "2020-10-22T01:24:48.232814Z",
     "iopub.status.busy": "2020-10-22T01:24:48.232604Z",
     "iopub.status.idle": "2020-10-22T01:24:48.236001Z",
     "shell.execute_reply": "2020-10-22T01:24:48.235405Z",
     "shell.execute_reply.started": "2020-10-22T01:24:48.232794Z"
    }
   },
   "outputs": [],
   "source": [
    "maxLen = 128\n",
    "epochs = 50\n",
    "dim_embedding = 50\n",
    "batch_size = 4\n",
    "dropout_rate = 0.25\n",
    "num_LSTM_cell = 64\n",
    "trainDataFileName = 's3://smle-experiments/datasets/phishing_email/splunk_train.json'"
   ]
  },
  {
   "cell_type": "code",
   "execution_count": 3,
   "metadata": {
    "execution": {
     "iopub.execute_input": "2020-10-22T01:24:48.237431Z",
     "iopub.status.busy": "2020-10-22T01:24:48.237138Z",
     "iopub.status.idle": "2020-10-22T01:25:04.369994Z",
     "shell.execute_reply": "2020-10-22T01:25:04.369189Z",
     "shell.execute_reply.started": "2020-10-22T01:24:48.237406Z"
    }
   },
   "outputs": [
    {
     "name": "stderr",
     "output_type": "stream",
     "text": [
      "/opt/conda/lib/python3.7/site-packages/dateutil/parser/_parser.py:1218: UnknownTimezoneWarning: tzname PST identified but not understood.  Pass `tzinfos` argument in order to correctly return a timezone-aware datetime.  In a future version, this will raise an exception.\n",
      "  category=UnknownTimezoneWarning)\n",
      "/opt/conda/lib/python3.7/site-packages/dateutil/parser/_parser.py:1218: UnknownTimezoneWarning: tzname EDT identified but not understood.  Pass `tzinfos` argument in order to correctly return a timezone-aware datetime.  In a future version, this will raise an exception.\n",
      "  category=UnknownTimezoneWarning)\n"
     ]
    }
   ],
   "source": [
    "xTrain = []\n",
    "yTrain = []\n",
    "df = pd.read_json(trainDataFileName,  lines = True)\n",
    "for idx, row in df.iterrows():\n",
    "    label = np.zeros(1)\n",
    "    if row['isPhishing'] == 'True':\n",
    "        label[0] = 1\n",
    "    yTrain.append(label)\n",
    "    aMessage = row['From'] + ' ' + row['Subject'] + ' ' + row['Content']\n",
    "    anEvent = np.array([32]*maxLen)\n",
    "    p = 0\n",
    "    for c in aMessage:\n",
    "        v = ord(c)\n",
    "        if v < 32 or v > 126:\n",
    "            continue\n",
    "        anEvent[p] = v\n",
    "        p += 1\n",
    "        if p >= maxLen:\n",
    "            break\n",
    "    xTrain.append(anEvent)\n",
    "xTrain = np.array(xTrain)\n",
    "yTrain = np.array(yTrain)"
   ]
  },
  {
   "cell_type": "code",
   "execution_count": 4,
   "metadata": {
    "execution": {
     "iopub.execute_input": "2020-10-22T01:25:04.371518Z",
     "iopub.status.busy": "2020-10-22T01:25:04.371269Z",
     "iopub.status.idle": "2020-10-22T06:15:15.871435Z",
     "shell.execute_reply": "2020-10-22T06:15:15.870561Z",
     "shell.execute_reply.started": "2020-10-22T01:25:04.371493Z"
    }
   },
   "outputs": [
    {
     "name": "stdout",
     "output_type": "stream",
     "text": [
      "Epoch 1/50\n",
      "10103/10103 [==============================] - 892s 88ms/step - loss: 0.1135 - accuracy: 0.9708 - val_loss: 0.0803 - val_accuracy: 0.9725\n",
      "Epoch 2/50\n",
      "10103/10103 [==============================] - 907s 90ms/step - loss: 0.0342 - accuracy: 0.9906 - val_loss: 0.0199 - val_accuracy: 0.9951\n",
      "Epoch 3/50\n",
      "10103/10103 [==============================] - 898s 89ms/step - loss: 0.0142 - accuracy: 0.9965 - val_loss: 0.0098 - val_accuracy: 0.9977\n",
      "Epoch 4/50\n",
      "10103/10103 [==============================] - 895s 89ms/step - loss: 0.0089 - accuracy: 0.9974 - val_loss: 0.0056 - val_accuracy: 0.9984\n",
      "Epoch 5/50\n",
      "10103/10103 [==============================] - 910s 90ms/step - loss: 0.0061 - accuracy: 0.9982 - val_loss: 0.0033 - val_accuracy: 0.9992\n",
      "Epoch 6/50\n",
      "10103/10103 [==============================] - 925s 92ms/step - loss: 0.0045 - accuracy: 0.9987 - val_loss: 0.0031 - val_accuracy: 0.9993\n",
      "Epoch 7/50\n",
      "10103/10103 [==============================] - 911s 90ms/step - loss: 0.0039 - accuracy: 0.9987 - val_loss: 0.0052 - val_accuracy: 0.9988\n",
      "Epoch 8/50\n",
      "10103/10103 [==============================] - 864s 85ms/step - loss: 0.0039 - accuracy: 0.9987 - val_loss: 0.0027 - val_accuracy: 0.9993\n",
      "Epoch 9/50\n",
      "10103/10103 [==============================] - 947s 94ms/step - loss: 0.0030 - accuracy: 0.9992 - val_loss: 0.0018 - val_accuracy: 0.9997\n",
      "Epoch 10/50\n",
      "10103/10103 [==============================] - 895s 89ms/step - loss: 0.0035 - accuracy: 0.9988 - val_loss: 0.0025 - val_accuracy: 0.9994\n",
      "Epoch 11/50\n",
      "10103/10103 [==============================] - 891s 88ms/step - loss: 0.0031 - accuracy: 0.9992 - val_loss: 0.0035 - val_accuracy: 0.9993\n",
      "Epoch 12/50\n",
      "10103/10103 [==============================] - 921s 91ms/step - loss: 0.0030 - accuracy: 0.9993 - val_loss: 0.0014 - val_accuracy: 0.9998\n",
      "Epoch 13/50\n",
      "10103/10103 [==============================] - 967s 96ms/step - loss: 0.0025 - accuracy: 0.9993 - val_loss: 0.0037 - val_accuracy: 0.9992\n",
      "Epoch 14/50\n",
      "10103/10103 [==============================] - 914s 90ms/step - loss: 0.0021 - accuracy: 0.9994 - val_loss: 0.0020 - val_accuracy: 0.9995\n",
      "Epoch 15/50\n",
      "10103/10103 [==============================] - 907s 90ms/step - loss: 0.0030 - accuracy: 0.9992 - val_loss: 0.0027 - val_accuracy: 0.9993\n",
      "Epoch 16/50\n",
      "10103/10103 [==============================] - 902s 89ms/step - loss: 0.0017 - accuracy: 0.9995 - val_loss: 0.0025 - val_accuracy: 0.9992\n",
      "Epoch 17/50\n",
      "10103/10103 [==============================] - 868s 86ms/step - loss: 0.0022 - accuracy: 0.9995 - val_loss: 0.0026 - val_accuracy: 0.9996\n",
      "Epoch 18/50\n",
      "10103/10103 [==============================] - 1004s 99ms/step - loss: 0.0023 - accuracy: 0.9994 - val_loss: 0.0023 - val_accuracy: 0.9996\n",
      "Epoch 19/50\n",
      "10103/10103 [==============================] - 991s 98ms/step - loss: 0.0018 - accuracy: 0.9996 - val_loss: 0.0040 - val_accuracy: 0.9994\n"
     ]
    }
   ],
   "source": [
    "model = Sequential()\n",
    "model.add(Embedding(128, dim_embedding, input_length=maxLen))\n",
    "model.add(SpatialDropout1D(dropout_rate))\n",
    "model.add(LSTM(num_LSTM_cell, dropout=dropout_rate, recurrent_dropout=dropout_rate))\n",
    "model.add(Dense(1, activation='sigmoid'))\n",
    "model.compile(optimizer='adam', loss='binary_crossentropy', metrics=['accuracy'])\n",
    "history = model.fit(xTrain, yTrain, epochs=epochs, batch_size=batch_size, validation_split=0.2, \n",
    "                    callbacks=[EarlyStopping(monitor='val_loss',patience=7, min_delta=0.00001)])"
   ]
  },
  {
   "cell_type": "markdown",
   "metadata": {},
   "source": [
    "## Publish Model"
   ]
  },
  {
   "cell_type": "code",
   "execution_count": 5,
   "metadata": {
    "execution": {
     "iopub.execute_input": "2020-10-22T06:15:15.873002Z",
     "iopub.status.busy": "2020-10-22T06:15:15.872722Z",
     "iopub.status.idle": "2020-10-22T06:15:16.579503Z",
     "shell.execute_reply": "2020-10-22T06:15:16.578672Z",
     "shell.execute_reply.started": "2020-10-22T06:15:15.872971Z"
    }
   },
   "outputs": [],
   "source": [
    "import os\n",
    "import smle\n",
    "import warnings\n",
    "\n",
    "warnings.filterwarnings('ignore')\n",
    "from smle.context import Context\n",
    "cwd = os.getcwd()\n",
    "\n",
    "config = {  \n",
    "    'username': '',\n",
    "    \n",
    "    'model_storage_type': 's3', \n",
    "    'model_storage_address': \"s3.us-west-2.amazonaws.com\",\n",
    "    'model_storage_bucket': 'smle-experiments',\n",
    "    'model_storage_access_key': '',\n",
    "    'model_storage_secret_key': '',\n",
    "    'model_storage_secure': False,\n",
    "}\n",
    "smle_context = Context(config)\n",
    "\n",
    "%load_ext spl2_kernel"
   ]
  },
  {
   "cell_type": "code",
   "execution_count": 6,
   "metadata": {
    "execution": {
     "iopub.execute_input": "2020-10-22T06:15:16.580642Z",
     "iopub.status.busy": "2020-10-22T06:15:16.580410Z",
     "iopub.status.idle": "2020-10-22T06:15:25.953086Z",
     "shell.execute_reply": "2020-10-22T06:15:25.952109Z",
     "shell.execute_reply.started": "2020-10-22T06:15:16.580616Z"
    }
   },
   "outputs": [
    {
     "name": "stdout",
     "output_type": "stream",
     "text": [
      "WARNING:tensorflow:From /opt/conda/lib/python3.7/site-packages/tensorflow/python/training/tracking/tracking.py:111: Model.state_updates (from tensorflow.python.keras.engine.training) is deprecated and will be removed in a future version.\n",
      "Instructions for updating:\n",
      "This property should not be used in TensorFlow 2.0, as updates are applied automatically.\n",
      "WARNING:tensorflow:From /opt/conda/lib/python3.7/site-packages/tensorflow/python/training/tracking/tracking.py:111: Layer.updates (from tensorflow.python.keras.engine.base_layer) is deprecated and will be removed in a future version.\n",
      "Instructions for updating:\n",
      "This property should not be used in TensorFlow 2.0, as updates are applied automatically.\n",
      "INFO:tensorflow:Assets written to: /tmp/phishing_email/assets\n"
     ]
    }
   ],
   "source": [
    "model_path = \"models/phishing_email\"\n",
    "model_name = \"phishing_email\"\n",
    "\n",
    "!rm -rf /tmp/{model_name}\n",
    "sample_data = pd.read_csv('s3://smle-experiments/datasets/phishing_email/sample_file.csv')\n",
    "smle_context.publish(model, model_name=model_name, path = model_path, sample= sample_data, input_names=[\"ml_in\"], output_names=[\"ml_out\"], tf2onnx=[\"--opset\", \"10\"])"
   ]
  },
  {
   "cell_type": "code",
   "execution_count": 7,
   "metadata": {
    "execution": {
     "iopub.execute_input": "2020-10-22T06:15:25.954666Z",
     "iopub.status.busy": "2020-10-22T06:15:25.954322Z",
     "iopub.status.idle": "2020-10-22T06:15:25.972751Z",
     "shell.execute_reply": "2020-10-22T06:15:25.971808Z",
     "shell.execute_reply.started": "2020-10-22T06:15:25.954638Z"
    }
   },
   "outputs": [
    {
     "name": "stdout",
     "output_type": "stream",
     "text": [
      "Metadata:\n",
      " {\n",
      "    \"modelName\": \"phishing_email\",\n",
      "    \"inputFields\": [\n",
      "        {\n",
      "            \"name\": \"ml_in\",\n",
      "            \"type\": \"floatTensor\",\n",
      "            \"size\": 128\n",
      "        }\n",
      "    ],\n",
      "    \"outputFields\": [\n",
      "        {\n",
      "            \"name\": \"ml_out\",\n",
      "            \"type\": \"floatTensor\",\n",
      "            \"size\": 1\n",
      "        }\n",
      "    ],\n",
      "    \"smle\": {\n",
      "        \"modelType\": \"tensorflow\",\n",
      "        \"published\": \"2020-10-22T06:15:25.712925+00:00\"\n",
      "    }\n",
      "}\n",
      "ONNX model specs:\n",
      " {\n",
      "    \"Inputs\": [\n",
      "        {\n",
      "            \"name\": \"ml_in\",\n",
      "            \"type\": \"tensor(float)\",\n",
      "            \"shape\": [\n",
      "                \"unk__152\",\n",
      "                128\n",
      "            ]\n",
      "        }\n",
      "    ],\n",
      "    \"Outputs\": [\n",
      "        {\n",
      "            \"name\": \"ml_out\",\n",
      "            \"type\": \"tensor(float)\",\n",
      "            \"shape\": [\n",
      "                \"unk__153\",\n",
      "                1\n",
      "            ]\n",
      "        }\n",
      "    ]\n",
      "}\n"
     ]
    }
   ],
   "source": [
    "model_dir = \"/tmp/{:s}\".format(model_name)\n",
    "smle_context.inspect(model_dir)"
   ]
  },
  {
   "cell_type": "markdown",
   "metadata": {},
   "source": [
    "## SPL2 apply model for inference"
   ]
  },
  {
   "cell_type": "code",
   "execution_count": 8,
   "metadata": {
    "execution": {
     "iopub.execute_input": "2020-10-22T06:15:25.974750Z",
     "iopub.status.busy": "2020-10-22T06:15:25.974494Z",
     "iopub.status.idle": "2020-10-22T06:15:25.979658Z",
     "shell.execute_reply": "2020-10-22T06:15:25.978797Z",
     "shell.execute_reply.started": "2020-10-22T06:15:25.974725Z"
    }
   },
   "outputs": [],
   "source": [
    "%%spl2_add_params from_python\n",
    "phishing_email = dict(\n",
    "    model_path = \"s3://smle-experiments/models/phishing_email\",\n",
    "    model_name = \"phishing_email\",\n",
    ")"
   ]
  },
  {
   "cell_type": "code",
   "execution_count": 9,
   "metadata": {
    "execution": {
     "iopub.execute_input": "2020-10-22T06:15:25.981856Z",
     "iopub.status.busy": "2020-10-22T06:15:25.981612Z",
     "iopub.status.idle": "2020-10-22T06:16:09.089904Z",
     "shell.execute_reply": "2020-10-22T06:16:09.089171Z",
     "shell.execute_reply.started": "2020-10-22T06:15:25.981833Z"
    }
   },
   "outputs": [
    {
     "data": {
      "application/vnd.jupyter.widget-view+json": {
       "model_id": "d1832a412825443b9b887e42ac417efd",
       "version_major": 2,
       "version_minor": 0
      },
      "text/plain": [
       "HBox(children=(HTML(value=''), FloatProgress(value=0.0, max=5.0), HTML(value='')))"
      ]
     },
     "metadata": {},
     "output_type": "display_data"
    },
    {
     "name": "stdout",
     "output_type": "stream",
     "text": [
      " Finished.                     "
     ]
    },
    {
     "data": {
      "text/html": [
       "<div>\n",
       "<style scoped>\n",
       "    .dataframe tbody tr th:only-of-type {\n",
       "        vertical-align: middle;\n",
       "    }\n",
       "\n",
       "    .dataframe tbody tr th {\n",
       "        vertical-align: top;\n",
       "    }\n",
       "\n",
       "    .dataframe thead th {\n",
       "        text-align: right;\n",
       "    }\n",
       "</style>\n",
       "<table border=\"1\" class=\"dataframe\">\n",
       "  <thead>\n",
       "    <tr style=\"text-align: right;\">\n",
       "      <th></th>\n",
       "      <th>end_time</th>\n",
       "      <th>start_time</th>\n",
       "      <th>body</th>\n",
       "      <th>entities</th>\n",
       "      <th>probability</th>\n",
       "    </tr>\n",
       "  </thead>\n",
       "  <tbody>\n",
       "    <tr>\n",
       "      <th>0</th>\n",
       "      <td>Thu, 14 Mar 2002 14:34:48 -0800 (PST)</td>\n",
       "      <td>Thu, 14 Mar 2002 14:34:48 -0800 (PST)</td>\n",
       "      <td>TBD</td>\n",
       "      <td>TBD</td>\n",
       "      <td>0.999014</td>\n",
       "    </tr>\n",
       "    <tr>\n",
       "      <th>1</th>\n",
       "      <td>Mon, 21 May 2001 03:27:00 -0700 (PDT)</td>\n",
       "      <td>Mon, 21 May 2001 03:27:00 -0700 (PDT)</td>\n",
       "      <td>TBD</td>\n",
       "      <td>TBD</td>\n",
       "      <td>0.999733</td>\n",
       "    </tr>\n",
       "    <tr>\n",
       "      <th>2</th>\n",
       "      <td>Fri, 4 May 2001 14:48:00 -0700 (PDT)</td>\n",
       "      <td>Fri, 4 May 2001 14:48:00 -0700 (PDT)</td>\n",
       "      <td>TBD</td>\n",
       "      <td>TBD</td>\n",
       "      <td>0.999192</td>\n",
       "    </tr>\n",
       "    <tr>\n",
       "      <th>3</th>\n",
       "      <td>Thu, 1 Nov 2018 17:20:06 +0000</td>\n",
       "      <td>Thu, 1 Nov 2018 17:20:06 +0000</td>\n",
       "      <td>TBD</td>\n",
       "      <td>TBD</td>\n",
       "      <td>0.998415</td>\n",
       "    </tr>\n",
       "    <tr>\n",
       "      <th>4</th>\n",
       "      <td>Wed, 23 Aug 2000 05:12:00 -0700 (PDT)</td>\n",
       "      <td>Wed, 23 Aug 2000 05:12:00 -0700 (PDT)</td>\n",
       "      <td>TBD</td>\n",
       "      <td>TBD</td>\n",
       "      <td>0.999215</td>\n",
       "    </tr>\n",
       "    <tr>\n",
       "      <th>...</th>\n",
       "      <td>...</td>\n",
       "      <td>...</td>\n",
       "      <td>...</td>\n",
       "      <td>...</td>\n",
       "      <td>...</td>\n",
       "    </tr>\n",
       "    <tr>\n",
       "      <th>218</th>\n",
       "      <td>Wednesday, 9 May 2018 at 07:34</td>\n",
       "      <td>Wednesday, 9 May 2018 at 07:34</td>\n",
       "      <td>TBD</td>\n",
       "      <td>TBD</td>\n",
       "      <td>0.999302</td>\n",
       "    </tr>\n",
       "    <tr>\n",
       "      <th>219</th>\n",
       "      <td>Mon, 25 Jun 2018 21:42:28 +0200</td>\n",
       "      <td>Mon, 25 Jun 2018 21:42:28 +0200</td>\n",
       "      <td>TBD</td>\n",
       "      <td>TBD</td>\n",
       "      <td>0.999290</td>\n",
       "    </tr>\n",
       "    <tr>\n",
       "      <th>220</th>\n",
       "      <td></td>\n",
       "      <td></td>\n",
       "      <td>TBD</td>\n",
       "      <td>TBD</td>\n",
       "      <td>0.987345</td>\n",
       "    </tr>\n",
       "    <tr>\n",
       "      <th>221</th>\n",
       "      <td>Fri, 11 May 2001 03:38:00 -0700 (PDT)</td>\n",
       "      <td>Fri, 11 May 2001 03:38:00 -0700 (PDT)</td>\n",
       "      <td>TBD</td>\n",
       "      <td>TBD</td>\n",
       "      <td>0.999448</td>\n",
       "    </tr>\n",
       "    <tr>\n",
       "      <th>222</th>\n",
       "      <td>Mon, 26 Nov 2001 13:48:17 -0800 (PST)</td>\n",
       "      <td>Mon, 26 Nov 2001 13:48:17 -0800 (PST)</td>\n",
       "      <td>TBD</td>\n",
       "      <td>TBD</td>\n",
       "      <td>0.999578</td>\n",
       "    </tr>\n",
       "  </tbody>\n",
       "</table>\n",
       "<p>223 rows × 5 columns</p>\n",
       "</div>"
      ],
      "text/plain": [
       "                                  end_time  \\\n",
       "0    Thu, 14 Mar 2002 14:34:48 -0800 (PST)   \n",
       "1    Mon, 21 May 2001 03:27:00 -0700 (PDT)   \n",
       "2     Fri, 4 May 2001 14:48:00 -0700 (PDT)   \n",
       "3           Thu, 1 Nov 2018 17:20:06 +0000   \n",
       "4    Wed, 23 Aug 2000 05:12:00 -0700 (PDT)   \n",
       "..                                     ...   \n",
       "218         Wednesday, 9 May 2018 at 07:34   \n",
       "219        Mon, 25 Jun 2018 21:42:28 +0200   \n",
       "220                                          \n",
       "221  Fri, 11 May 2001 03:38:00 -0700 (PDT)   \n",
       "222  Mon, 26 Nov 2001 13:48:17 -0800 (PST)   \n",
       "\n",
       "                                start_time body entities  probability  \n",
       "0    Thu, 14 Mar 2002 14:34:48 -0800 (PST)  TBD      TBD     0.999014  \n",
       "1    Mon, 21 May 2001 03:27:00 -0700 (PDT)  TBD      TBD     0.999733  \n",
       "2     Fri, 4 May 2001 14:48:00 -0700 (PDT)  TBD      TBD     0.999192  \n",
       "3           Thu, 1 Nov 2018 17:20:06 +0000  TBD      TBD     0.998415  \n",
       "4    Wed, 23 Aug 2000 05:12:00 -0700 (PDT)  TBD      TBD     0.999215  \n",
       "..                                     ...  ...      ...          ...  \n",
       "218         Wednesday, 9 May 2018 at 07:34  TBD      TBD     0.999302  \n",
       "219        Mon, 25 Jun 2018 21:42:28 +0200  TBD      TBD     0.999290  \n",
       "220                                         TBD      TBD     0.987345  \n",
       "221  Fri, 11 May 2001 03:38:00 -0700 (PDT)  TBD      TBD     0.999448  \n",
       "222  Mon, 26 Nov 2001 13:48:17 -0800 (PST)  TBD      TBD     0.999578  \n",
       "\n",
       "[223 rows x 5 columns]"
      ]
     },
     "metadata": {},
     "output_type": "display_data"
    },
    {
     "name": "stdout",
     "output_type": "stream",
     "text": [
      "\n"
     ]
    },
    {
     "data": {
      "text/plain": [
       "<spl2_kernel.spl2_runner.SPL2Job at 0x7f0839efe410>"
      ]
     },
     "execution_count": 9,
     "metadata": {},
     "output_type": "execute_result"
    }
   ],
   "source": [
    "%%spl2 -q phishing_email\n",
    "| from read_json(\"s3://smle-experiments/datasets/phishing_email/splunk_test.json\")\n",
    "| eval eventLine=concat(From, \" \", Subject, \" \", Content, \" \", \"                                                                                                                                \")\n",
    "| where eventLine IS NOT NULL\n",
    "| eval mapC = {\" \":32,\"!\":33,\"\\\"\":34,\"#\":35,\"$$\":36,\"%\":37,\"&\":38,\"'\":39,\"(\":40,\")\":41,\"*\":42,\"+\":43,\",\":44,\"-\":45,\".\":46,\"/\":47,\"0\":48,\"1\":49,\"2\":50,\"3\":51,\"4\":52,\"5\":53,\"6\":54,\"7\":55,\"8\":56,\"9\":57,\":\":58,\";\":59,\"<\":60,\"=\":61,\">\":62,\"?\":63,\"@\":64,\"A\":65,\"B\":66,\"C\":67,\"D\":68,\"E\":69,\"F\":70,\"G\":71,\"H\":72,\"I\":73,\"J\":74,\"K\":75,\"L\":76,\"M\":77,\"N\":78,\"O\":79,\"P\":80,\"Q\":81,\"R\":82,\"S\":83,\"T\":84,\"U\":85,\"V\":86,\"W\":87,\"X\":88,\"Y\":89,\"Z\":90,\"[\":91,\"\\\\\":92,\"]\":93,\"^\":94,\"_\":95,\"`\":96,\"a\":97,\"b\":98,\"c\":99,\"d\":100,\"e\":101,\"f\":102,\"g\":103,\"h\":104,\"i\":105,\"j\":106,\"k\":107,\"l\":108,\"m\":109,\"n\":110,\"o\":111,\"p\":112,\"q\":113,\"r\":114,\"s\":115,\"t\":116,\"u\":117,\"v\":118,\"w\":119,\"x\":120,\"y\":121,\"z\":122,\"{\":123,\"|\":124,\"}\":125,\"~\":126}\n",
    "| eval ml_in = for_each(\n",
    "        iterator(mvrange(1,129), \"i\"),\n",
    "        cast(map_get(mapC, substr(eventLine, i, 1)), \"float\") )\n",
    "| apply_model connection_id=\"\" path=\"$model_path\" name=\"$model_name\"\n",
    "| eval probability = mvindex(ml_out, 0) \n",
    "| where probability > 0.5\n",
    "| eval start_time = Date, end_time = Date, entities = \"TBD\", body = \"TBD\"\n",
    "| select probability, body, entities, start_time, end_time\n",
    ";"
   ]
  },
  {
   "cell_type": "markdown",
   "metadata": {},
   "source": [
    "### Note the versions of SMLE and Tensorflow used"
   ]
  },
  {
   "cell_type": "code",
   "execution_count": 10,
   "metadata": {
    "execution": {
     "iopub.execute_input": "2020-10-22T06:16:09.091281Z",
     "iopub.status.busy": "2020-10-22T06:16:09.091048Z",
     "iopub.status.idle": "2020-10-22T06:16:10.815332Z",
     "shell.execute_reply": "2020-10-22T06:16:10.814298Z",
     "shell.execute_reply.started": "2020-10-22T06:16:09.091259Z"
    }
   },
   "outputs": [
    {
     "name": "stdout",
     "output_type": "stream",
     "text": [
      "Name: smle\n",
      "Version: 0.2.12\n",
      "Summary: Splunk Machine Learning Environment\n",
      "Home-page: https://cd.splunkdev.com/ML/smle\n",
      "Author: SplunkMLTeam\n",
      "Author-email: mleng@splunk.com\n",
      "License: Splunk Software License\n",
      "Location: /opt/conda/lib/python3.7/site-packages\n",
      "Requires: scipy, onnx, minio, packaging, toml, arrow, pandas, onnxruntime, python-json-logger, numpy, boto3\n",
      "Required-by: \n",
      "---\n",
      "Name: tensorflow\n",
      "Version: 2.3.0\n",
      "Summary: TensorFlow is an open source machine learning framework for everyone.\n",
      "Home-page: https://www.tensorflow.org/\n",
      "Author: Google Inc.\n",
      "Author-email: packages@tensorflow.org\n",
      "License: Apache 2.0\n",
      "Location: /opt/conda/lib/python3.7/site-packages\n",
      "Requires: termcolor, keras-preprocessing, six, protobuf, google-pasta, astunparse, tensorflow-estimator, scipy, numpy, gast, opt-einsum, tensorboard, absl-py, wrapt, h5py, wheel, grpcio\n",
      "Required-by: \n",
      "---\n",
      "Name: tf2onnx\n",
      "Version: 1.6.3\n",
      "Summary: Tensorflow to ONNX converter\n",
      "Home-page: https://github.com/onnx/tensorflow-onnx\n",
      "Author: onnx@microsoft.com\n",
      "Author-email: onnx@microsoft.com\n",
      "License: UNKNOWN\n",
      "Location: /opt/conda/lib/python3.7/site-packages\n",
      "Requires: numpy, onnx, requests, six\n",
      "Required-by: \n"
     ]
    }
   ],
   "source": [
    "!pip show smle tensorflow tf2onnx"
   ]
  },
  {
   "cell_type": "code",
   "execution_count": null,
   "metadata": {},
   "outputs": [],
   "source": []
  }
 ],
 "metadata": {
  "kernelspec": {
   "display_name": "Python 3",
   "language": "python",
   "name": "python3"
  },
  "language_info": {
   "codemirror_mode": {
    "name": "ipython",
    "version": 3
   },
   "file_extension": ".py",
   "mimetype": "text/x-python",
   "name": "python",
   "nbconvert_exporter": "python",
   "pygments_lexer": "ipython3",
   "version": "3.7.8"
  }
 },
 "nbformat": 4,
 "nbformat_minor": 4
}
